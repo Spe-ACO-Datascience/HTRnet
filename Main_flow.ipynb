{
 "cells": [
  {
   "cell_type": "markdown",
   "id": "d192f009-e9c9-44c8-af53-9a1b1b881abf",
   "metadata": {
    "tags": []
   },
   "source": [
    "# Script Principal du projet "
   ]
  },
  {
   "cell_type": "markdown",
   "id": "34a26c8f-02fe-43f2-9e68-b9a187b9a239",
   "metadata": {},
   "source": [
    "Commençons par importer les packages nécessaires"
   ]
  },
  {
   "cell_type": "code",
   "execution_count": null,
   "id": "13cf9594-5599-4857-a3f8-ef565e6671bf",
   "metadata": {},
   "outputs": [],
   "source": [
    "#### Librairie\n",
    "from sklearn.model_selection import train_test_split\n",
    "\n",
    "#### Nos fonctions : \n",
    "    \n",
    "from utils import *\n",
    "from db_config import *\n",
    "\n",
    "#### Nos fonctions par modèle\n",
    "from KNN import KNN_Model\n",
    "from RF import RandomForest_Model\n",
    "from Linear_SVC import SVC_Model"
   ]
  },
  {
   "cell_type": "markdown",
   "id": "9195e2fa-cd20-4de6-b032-4fdcb08a9249",
   "metadata": {},
   "source": [
    "# Premiers test avec le data set complet\n",
    "On retire les deux dernières colonnes qui sont un doublon des espaces et l'apostrophe\n",
    "pour lequel il n'y a qu'une seule donnée."
   ]
  },
  {
   "cell_type": "code",
   "execution_count": null,
   "id": "8780118f-28c6-41d0-bc53-7f7868a48f1a",
   "metadata": {},
   "outputs": [],
   "source": [
    "all_categories = [el for el in selectAllCategories()][0:-2]\n",
    "\n",
    "x_all, y_all = createDataSet(all_categories)\n"
   ]
  },
  {
   "cell_type": "markdown",
   "id": "6be67691-2ccd-42c5-b9da-3f4ff1202d2b",
   "metadata": {},
   "source": [
    "## Résultats obtenus pour les différents modèles\n",
    "Toutes les fonctions d'entraînement des modèles font de la cross-validation et le cas \n",
    "échéant estiment les hyper-paramètres et retourne le meilleur modèle. \n"
   ]
  },
  {
   "cell_type": "code",
   "execution_count": null,
   "id": "c61a3660-afaa-416a-865f-56e8472c60a4",
   "metadata": {},
   "outputs": [],
   "source": [
    "best_knn_model = KNN_Model(x_all, y_all, 10, 15, 'accuracy')\n",
    "\n",
    "best_random_forest_model = RandomForest_Model(x_all, y_all, nbreTree=100, \n",
    "                                              minDepth=2, maxDepth=4, minSplit=3,\n",
    "                                              maxSplit=5, nbreCV=5, metric= \"accuracy\")\n",
    "\n",
    "best_SVC_model = SVC_Model(x_all,y_all, nbreCV = 5 , C_min=1 , C_max = 100 ,nb_C =2)"
   ]
  },
  {
   "cell_type": "markdown",
   "id": "3d9b56e0-39eb-468e-8506-eb86ad8acf6a",
   "metadata": {},
   "source": [
    "## Création des dataset train et test"
   ]
  },
  {
   "cell_type": "code",
   "execution_count": null,
   "id": "39d18e9d-6b67-43d0-957b-6621d6ca4042",
   "metadata": {},
   "outputs": [],
   "source": [
    "\n",
    "X_train_all, X_test_all, y_train_all, y_test_all = train_test_split(x_all, y_all, test_size=0.33,\n",
    "                                                                    random_state=2, shuffle=True)\n"
   ]
  },
  {
   "cell_type": "markdown",
   "id": "03764d58-cf90-41ca-bf04-efadba2ab8f4",
   "metadata": {},
   "source": [
    "## Matrice de confusion pour chaque catégorie de lettre, par modèle"
   ]
  },
  {
   "cell_type": "code",
   "execution_count": null,
   "id": "a2ed26e2-7455-4ee3-8521-a44ca5281106",
   "metadata": {},
   "outputs": [],
   "source": [
    "testModelForEachCat(best_knn_model, all_categories, y_test_all, X_test_all, plot=True)\n",
    "\n",
    "testModelForEachCat(best_random_forest_model, all_categories, y_test_all, X_test_all, plot=True)\n",
    "\n",
    "testModelForEachCat(best_SVC_model, all_categories, y_test_all, X_test_all, plot=True)"
   ]
  },
  {
   "cell_type": "markdown",
   "id": "7471e8a5-612f-441e-a2ce-cd7aad566505",
   "metadata": {},
   "source": [
    " Premières conclusions : \n",
    "    \n",
    "   Quelque soit le modèle et quelques soit les hyper paramètres, on a la même accuracy\n",
    "   Quand on regarde plus en détail, toutes les lettres sont très souvent prédites comme étant des espaces. \n",
    "   Problème de déséquilibre des classes. \n",
    "    \n",
    "   Deux stratégies s'offrent à nous : \n",
    "    \n",
    "- Ré-équilibrer les données artificiellement\n",
    "- Augmenter le nombre de données (en récolter plus)\n",
    "    \n",
    "Dans le cadre du projet, la dernière option qui est très certainement la meilleure, n'est pas possible. \n",
    "Nous essaierons donc la première stratégie. \n",
    "    \n",
    "Nous avons plusieurs solutions pour réaliser cette dernière  :\n",
    "        \n",
    "- Oversampling\n",
    "- undersampling\n",
    "- class weight \n",
    "- decision threshold (ne fonctionne que pour du binaire à priori)\n",
    "        \n",
    "    \n",
    "Dans un premier temps, au regard de nos données, nous allons réduire manuellement le nombre d'espace. \n",
    "C'est une décision forte, mais qui semble nécessaire au regard de la différence d'espace par rapport \n",
    "aux autres classes."
   ]
  },
  {
   "cell_type": "markdown",
   "id": "1542ff36-6212-4a56-b51e-97322023916b",
   "metadata": {},
   "source": [
    "# Données avec un nombre d'espace réduit"
   ]
  },
  {
   "cell_type": "code",
   "execution_count": null,
   "id": "2799146b-ee36-441b-9104-f91fd6e11c47",
   "metadata": {},
   "outputs": [],
   "source": [
    "x_cut_space, y_cut_space = createDataSet(all_categories, troncSpace=1000)\n",
    "\n",
    "best_knn_model_cut_space = KNN_Model(x_cut_space, y_cut_space, 10, 15, 'accuracy')\n",
    "\n",
    "best_random_forest_model_cut_space = RandomForest_Model(x_cut_space, y_cut_space, \n",
    "                                                        nbreTree=100, minDepth=2, maxDepth=4,\n",
    "                                                        minSplit=3, maxSplit=5, nbreCV=5, metric= \"accuracy\")\n",
    "best_SVC_model_cut_space = SVC_Model(x_cut_space, y_cut_space, nbreCV = 5 , C_min=1 , C_max = 100 ,nb_C =2)\n"
   ]
  },
  {
   "cell_type": "markdown",
   "id": "956d9dd8-ce6f-41c1-ad98-f71cdeb4404c",
   "metadata": {},
   "source": [
    "Conclusion, ça ne marche pas mieux, la plupart des lettres sont toujours prédites comme des espaces\n",
    "Autre stratégie, essayer de faire de l'oversampling. Donc de créer de nouvelles données. "
   ]
  },
  {
   "cell_type": "markdown",
   "id": "1753c8d2-45af-4842-b8f7-c4c4e56ab8b9",
   "metadata": {},
   "source": [
    "# Test de ressampling avec SMOTEENN"
   ]
  },
  {
   "cell_type": "code",
   "execution_count": null,
   "id": "d2e76aa3-ed1e-4c50-aaca-30dd5de087ef",
   "metadata": {},
   "outputs": [],
   "source": [
    "from imblearn.combine import SMOTEENN\n",
    "\n",
    "smote_enn = SMOTEENN(random_state=0)\n",
    "x_resampled, y_resampled = smote_enn.fit_resample(x_all, y_all)\n",
    "\n",
    "\n",
    "best_knn_model_resample = KNN_Model(x_resampled, y_resampled, nbre_cv=10, k_max= 5, metric = 'accuracy')\n",
    "\n",
    "best_random_forest_model_resample = RandomForest_Model(x_resampled, y_resampled, \n",
    "                                                       nbreTree=100, minDepth=2, maxDepth=4, \n",
    "                                                       minSplit=3, maxSplit=5, nbreCV=5, metric= \"accuracy\")\n",
    "best_svc_model_resample =  SVC_Model(x_resampled, y_resampled, nbreCV = 5 , C_min=1 , C_max = 100 ,nb_C =2)\n"
   ]
  },
  {
   "cell_type": "markdown",
   "id": "55846e27-20af-475b-89b3-d9bdf5e0f1a1",
   "metadata": {},
   "source": [
    "Temps de calcul très long pour les modèles, car nombre de données beaucoup trop grand\n",
    "\n",
    "Essayons avec un nombre d'espace réduit, pour avoir un jeu de données plus petit (environ 300 données maximum)"
   ]
  },
  {
   "cell_type": "code",
   "execution_count": null,
   "id": "601ee909-397b-4453-982c-441129777b2b",
   "metadata": {},
   "outputs": [],
   "source": [
    "smote_enn_cut_space = SMOTEENN(random_state=0)\n",
    "x_resampled_cut_space, y_resampled_cut_space = smote_enn_cut_space.fit_resample(x_cut_space, y_cut_space)\n",
    "\n",
    "\n",
    "best_knn_model_resample = KNN_Model(x_resampled_cut_space, y_resampled_cut_space, \n",
    "                                    nbre_cv=10, k_max= 5, metric = 'accuracy')\n",
    "\n",
    "best_random_forest_model_resample = RandomForest_Model(x_resampled_cut_space, y_resampled_cut_space, \n",
    "                                                       nbreTree=100, minDepth=2, maxDepth=4, minSplit=3,\n",
    "                                                       maxSplit=5, nbreCV=5, metric= \"accuracy\")\n",
    "\n",
    "best_svc_model_resample = SVC_Model(x_resampled_cut_space, y_resampled_cut_space, \n",
    "                                    nbreCV = 5 , C_min=1 , C_max = 100 ,nb_C =2)\n"
   ]
  },
  {
   "cell_type": "markdown",
   "id": "afa8b99d-b608-4102-8174-cb51c73c6ac9",
   "metadata": {},
   "source": [
    "### Meilleure Optimisation du KNN"
   ]
  },
  {
   "cell_type": "markdown",
   "id": "2536dcf3-6983-4aad-b58c-bd47b6947b2b",
   "metadata": {},
   "source": [
    "Pour des k compris entre 1 et 5, l'accuracy est très élevée (proche de 1), à voir s'il faut augmenter le nombre de k ou pas, très bonne prédiction, mais\n",
    "cela semble douteux : à développer. \n",
    "\n",
    "Pour les random forest, on peut constater quelque chose d'intéressant, quelque soit le nombre de split, c'est surtout la profondeur de l'arbre qui semble intéressante. \n",
    "\n",
    "--- start cross validation Random Forest --- \n",
    "\n",
    "--- accuracy moyenne pour split = 3 et depth = 2 ---\n",
    "0.20501366345984712\n",
    "\n",
    "\n",
    "--- accuracy moyenne pour split = 3 et depth = 3 ---\n",
    "0.38028213629419916\n",
    "\n",
    "\n",
    "--- accuracy moyenne pour split = 3 et depth = 4 ---\n",
    "0.4770781052981096\n",
    "\n",
    "\n",
    "--- accuracy moyenne pour split = 4 et depth = 2 ---\n",
    "0.2202565607591816\n",
    "\n",
    "\n",
    "--- accuracy moyenne pour split = 4 et depth = 3 ---\n",
    "0.3735382339432027\n",
    "\n",
    "\n",
    "--- accuracy moyenne pour split = 4 et depth = 4 ---\n",
    "0.48043027076559064\n",
    "\n",
    "\n",
    "--- accuracy moyenne pour split = 5 et depth = 2 ---\n",
    "0.21296612001429982\n",
    "\n",
    "\n",
    "--- accuracy moyenne pour split = 5 et depth = 3 ---\n",
    "0.3669890506165368\n",
    "\n",
    "\n",
    "--- accuracy moyenne pour split = 5 et depth = 4 ---\n",
    "0.4792612043979891\n",
    "\n",
    "--- cross validation terminée ---\n",
    "--- La meilleur accuracy est 0.48043027076559064 --- \n",
    " Pour split = 4 et depth = 4\n",
    " \n",
    " \n",
    " Un peut donc fixer un nombre de split compris entre 4 et 5 pour le moment et regarder pour une profondeur plus importante. \n"
   ]
  },
  {
   "cell_type": "markdown",
   "id": "74b37439-42a3-4613-afa8-109e750f3188",
   "metadata": {},
   "source": [
    "### Meilleure optimisation du random Forest"
   ]
  },
  {
   "cell_type": "code",
   "execution_count": 2,
   "id": "56fdfaa6-df20-4f96-b300-16458fcb617e",
   "metadata": {},
   "outputs": [
    {
     "ename": "NameError",
     "evalue": "name 'RandomForest_Model' is not defined",
     "output_type": "error",
     "traceback": [
      "\u001b[1;31m---------------------------------------------------------------------------\u001b[0m",
      "\u001b[1;31mNameError\u001b[0m                                 Traceback (most recent call last)",
      "Input \u001b[1;32mIn [2]\u001b[0m, in \u001b[0;36m<cell line: 1>\u001b[1;34m()\u001b[0m\n\u001b[1;32m----> 1\u001b[0m rf_model \u001b[38;5;241m=\u001b[39m \u001b[43mRandomForest_Model\u001b[49m(x_resampled_cut_space, y_resampled_cut_space, nbreTree\u001b[38;5;241m=\u001b[39m\u001b[38;5;241m100\u001b[39m, minDepth\u001b[38;5;241m=\u001b[39m\u001b[38;5;241m4\u001b[39m, maxDepth\u001b[38;5;241m=\u001b[39m\u001b[38;5;241m10\u001b[39m, minSplit\u001b[38;5;241m=\u001b[39m\u001b[38;5;241m4\u001b[39m, maxSplit\u001b[38;5;241m=\u001b[39m\u001b[38;5;241m5\u001b[39m, nbreCV\u001b[38;5;241m=\u001b[39m\u001b[38;5;241m5\u001b[39m, metric\u001b[38;5;241m=\u001b[39m \u001b[38;5;124m\"\u001b[39m\u001b[38;5;124maccuracy\u001b[39m\u001b[38;5;124m\"\u001b[39m)\n",
      "\u001b[1;31mNameError\u001b[0m: name 'RandomForest_Model' is not defined"
     ]
    }
   ],
   "source": [
    "rf_model = RandomForest_Model(x_resampled_cut_space, y_resampled_cut_space,\n",
    "                              nbreTree=100, minDepth=4, maxDepth=10, minSplit=4, \n",
    "                              maxSplit=5, nbreCV=5, metric= \"accuracy\")\n"
   ]
  },
  {
   "cell_type": "markdown",
   "id": "ebd7dfd6-f724-4181-aaef-58c2c3efda67",
   "metadata": {},
   "source": [
    "Bien meilleur résultats : (attention tout de même à l'over fitting mais à chaque fois le test ne rentre pas en jeu dans la fonction )\n",
    "    \n",
    "--- split data set into train and test ---\n",
    "--- start cross validation Random Forest --- \n",
    "\n",
    "--- accuracy moyenne pour split = 4 et depth = 4 ---\n",
    "    0.47951812082286266\n",
    "\n",
    "--- accuracy moyenne pour split = 4 et depth = 5 ---\n",
    "    0.5812297241648603\n",
    "\n",
    "--- accuracy moyenne pour split = 4 et depth = 6 ---\n",
    "    0.6821834828627249\n",
    "\n",
    "--- accuracy moyenne pour split = 4 et depth = 7 ---\n",
    "    0.7862212080390603\n",
    "\n",
    "--- accuracy moyenne pour split = 4 et depth = 8 ---\n",
    "    0.8668686400924275\n",
    "\n",
    "--- accuracy moyenne pour split = 4 et depth = 9 ---\n",
    "    0.922902530600252\n",
    "\n",
    "--- accuracy moyenne pour split = 4 et depth = 10 ---\n",
    "    0.9521121904579107\n",
    "\n",
    "--- accuracy moyenne pour split = 5 et depth = 4 ---\n",
    "    0.4764926831390187\n",
    "\n",
    "--- accuracy moyenne pour split = 5 et depth = 5 ---\n",
    "    0.575876793671443\n",
    "\n",
    "--- accuracy moyenne pour split = 5 et depth = 6 ---\n",
    "    0.6881767434192765\n",
    "\n",
    "--- accuracy moyenne pour split = 5 et depth = 7 ---\n",
    "    0.7852903835565569\n",
    "\n",
    "--- accuracy moyenne pour split = 5 et depth = 8 ---\n",
    "    0.8649482761509718\n",
    "\n",
    "--- accuracy moyenne pour split = 5 et depth = 9 ---\n",
    "    0.9211570760178687\n",
    "\n",
    "--- accuracy moyenne pour split = 5 et depth = 10 ---\n",
    "    0.9497264227380136\n",
    "\n",
    "--- cross validation terminée ---\n",
    "--- La meilleur accuracy est 0.9521121904579107 --- \n",
    "     Pour split = 4 et depth = 10"
   ]
  }
 ],
 "metadata": {
  "kernelspec": {
   "display_name": "Python 3 (ipykernel)",
   "language": "python",
   "name": "python3"
  },
  "language_info": {
   "codemirror_mode": {
    "name": "ipython",
    "version": 3
   },
   "file_extension": ".py",
   "mimetype": "text/x-python",
   "name": "python",
   "nbconvert_exporter": "python",
   "pygments_lexer": "ipython3",
   "version": "3.9.12"
  }
 },
 "nbformat": 4,
 "nbformat_minor": 5
}
